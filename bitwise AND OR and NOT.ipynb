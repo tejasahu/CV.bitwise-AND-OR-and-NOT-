{
 "cells": [
  {
   "cell_type": "code",
   "execution_count": null,
   "metadata": {},
   "outputs": [],
   "source": [
    "import cv2\n",
    "import numpy as np\n",
    "\n",
    "img1=np.zeros([400,400,3],np.uint8)\n",
    "img1=cv2.rectangle(img1,(150,100),(200,250),(255,255,255),-1)\n",
    "\n",
    "img2=np.zeros([400,400,3],np.uint8)\n",
    "img2=cv2.rectangle(img2,(10,10),(170,190),(255,255,255),-1)\n",
    "\n",
    "cv2.imshow(\"img1\",img1)\n",
    "cv2.imshow(\"img2\",img2)\n",
    "\n",
    "#bitwise AND\n",
    "\n",
    "#bitAnd=cv2.bitwise_and(img1,img2)\n",
    "#cv2.imshow(\"bitwiseand\",bitAnd)\n",
    "\n",
    "#bitwise OR\n",
    "#bitor=cv2.bitwise_or(img1,img2)\n",
    "#cv2.imshow(\"bitor\",bitor)\n",
    "\n",
    "\n",
    "#bitwise NOT\n",
    "#bitnot1=cv2.bitwise_not(img1)\n",
    "#cv2.imshow(\"bitnot1\",bitnot1)\n",
    "\n",
    "#bitnot2=cv2.bitwise_not(img2)\n",
    "#cv2.imshow(\"bitnot2\",bitnot2)\n",
    "\n",
    "\n",
    "# bitwise XOR enequality generater\n",
    "bitxor=cv2.bitwise_xor(img1,img2)\n",
    "cv2.imshow(\"bitxor\",bitxor)\n",
    "\n",
    "\n",
    "cv2.waitKey(0)\n",
    "cv2.dedstroyAllWindows()"
   ]
  },
  {
   "cell_type": "code",
   "execution_count": null,
   "metadata": {},
   "outputs": [],
   "source": []
  }
 ],
 "metadata": {
  "kernelspec": {
   "display_name": "Python 3",
   "language": "python",
   "name": "python3"
  },
  "language_info": {
   "codemirror_mode": {
    "name": "ipython",
    "version": 3
   },
   "file_extension": ".py",
   "mimetype": "text/x-python",
   "name": "python",
   "nbconvert_exporter": "python",
   "pygments_lexer": "ipython3",
   "version": "3.7.6"
  }
 },
 "nbformat": 4,
 "nbformat_minor": 4
}
